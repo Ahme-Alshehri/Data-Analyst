{
 "cells": [
  {
   "cell_type": "markdown",
   "metadata": {},
   "source": [
    "### Example 1:"
   ]
  },
  {
   "cell_type": "markdown",
   "metadata": {},
   "source": [
    "1. Complete the method **return_42**, by making it **return 42**\n",
    "2. Create a method, which must be called **my_method**, which takes two arguments and returns the result of its two arguments multiplied together"
   ]
  },
  {
   "cell_type": "code",
   "execution_count": 1,
   "metadata": {},
   "outputs": [],
   "source": [
    "# Complete the method by making sure it returns 42. .\n",
    "def return_42():\n",
    "    return 42\n",
    "\n",
    "# Create a method below, called my_method, that takes two arguments and returns the result of its two arguments multiplied together.\n",
    "def my_method(arg1, arg2):\n",
    "    return arg1*arg2"
   ]
  },
  {
   "cell_type": "markdown",
   "metadata": {},
   "source": [
    "### Example 2:"
   ]
  },
  {
   "cell_type": "markdown",
   "metadata": {},
   "source": [
    "Create a functon that prints a sequence of integers from 1 to 100, and inplace of every multiple of 3 print “m3” and inplace of every multiple of 5 print  “m5” and if the number is a multiple of both print \"m 3&5\""
   ]
  },
  {
   "cell_type": "code",
   "execution_count": 34,
   "metadata": {},
   "outputs": [
    {
     "name": "stdout",
     "output_type": "stream",
     "text": [
      "1\n",
      "2\n",
      "m3\n",
      "4\n",
      "m5\n",
      "m3\n",
      "7\n",
      "8\n",
      "m3\n",
      "m5\n",
      "11\n",
      "m3\n",
      "13\n",
      "14\n",
      "m 3&5\n",
      "16\n",
      "17\n",
      "m3\n",
      "19\n",
      "m5\n",
      "m3\n",
      "22\n",
      "23\n",
      "m3\n",
      "m5\n",
      "26\n",
      "m3\n",
      "28\n",
      "29\n",
      "m 3&5\n",
      "31\n",
      "32\n",
      "m3\n",
      "34\n",
      "m5\n",
      "m3\n",
      "37\n",
      "38\n",
      "m3\n",
      "m5\n",
      "41\n",
      "m3\n",
      "43\n",
      "44\n",
      "m 3&5\n",
      "46\n",
      "47\n",
      "m3\n",
      "49\n",
      "m5\n",
      "m3\n",
      "52\n",
      "53\n",
      "m3\n",
      "m5\n",
      "56\n",
      "m3\n",
      "58\n",
      "59\n",
      "m 3&5\n",
      "61\n",
      "62\n",
      "m3\n",
      "64\n",
      "m5\n",
      "m3\n",
      "67\n",
      "68\n",
      "m3\n",
      "m5\n",
      "71\n",
      "m3\n",
      "73\n",
      "74\n",
      "m 3&5\n",
      "76\n",
      "77\n",
      "m3\n",
      "79\n",
      "m5\n",
      "m3\n",
      "82\n",
      "83\n",
      "m3\n",
      "m5\n",
      "86\n",
      "m3\n",
      "88\n",
      "89\n",
      "m 3&5\n",
      "91\n",
      "92\n",
      "m3\n",
      "94\n",
      "m5\n",
      "m3\n",
      "97\n",
      "98\n",
      "m3\n",
      "m5\n"
     ]
    }
   ],
   "source": [
    "n = list(range(1,101))\n",
    "\n",
    "for i in n: #rang(1,101)\n",
    "    if i % 5 == 0 and i% 3==0:\n",
    "        print (\"m 3&5\")\n",
    "    elif i % 5 == 0:\n",
    "        print (\"m5\")\n",
    "    elif  i% 3==0:\n",
    "        print (\"m3\")\n",
    "    else:\n",
    "        print (i)"
   ]
  },
  {
   "cell_type": "code",
   "execution_count": 3,
   "metadata": {},
   "outputs": [
    {
     "name": "stdout",
     "output_type": "stream",
     "text": [
      "m 3\n",
      "1\n",
      "2\n",
      "m 3\n",
      "4\n",
      "m5\n",
      "m 3\n",
      "7\n",
      "8\n",
      "m 3\n",
      "m5\n",
      "11\n",
      "m 3\n",
      "13\n",
      "14\n",
      "m 3\n",
      "16\n",
      "17\n",
      "m 3\n",
      "19\n"
     ]
    }
   ],
   "source": [
    "\n",
    "n = [1,2,3,4,5,6,7,8,9,10,11,12,13,14,15,16,17,18,19,20]\n",
    "\n",
    "for i in range(len(n)): #rang(1,101)\n",
    "    if i% 3==0:\n",
    "        print (\"m 3\")\n",
    "    elif i % 5 == 0:\n",
    "        print (\"m5\")\n",
    "    elif  i % 5 == 0:\n",
    "        if i% 3==0:\n",
    "            print (\"m3 &5\")\n",
    "    else:\n",
    "        print (i)\n",
    "\n"
   ]
  },
  {
   "cell_type": "markdown",
   "metadata": {},
   "source": [
    "### Examlpe 3:"
   ]
  },
  {
   "cell_type": "markdown",
   "metadata": {},
   "source": [
    "Take two lists, say for example these two:\n",
    "\n",
    "  a = [1, 1, 2, 3, 5, 8, 13, 21, 34, 55, 89]\n",
    "  b = [1, 2, 3, 4, 5, 6, 7, 8, 9, 10, 11, 12, 13]\n",
    "    \n",
    "Write a function that returns a list that contains only the elements that are common between the lists  Make sure your program works on two lists of different sizes.\n"
   ]
  },
  {
   "cell_type": "code",
   "execution_count": 6,
   "metadata": {
    "collapsed": true
   },
   "outputs": [],
   "source": [
    "a = [1, 1, 2, 3, 5, 8, 13, 21, 34, 55, 89]\n",
    "b = [1, 2, 3, 4, 5, 6, 7, 8, 9, 10, 11, 12, 13]\n",
    "c=[]\n",
    "d = set()\n",
    "\n",
    "for i in a:\n",
    "    if i in b:\n",
    "        c.append(i)\n",
    "        d.add(i)\n"
   ]
  },
  {
   "cell_type": "code",
   "execution_count": 8,
   "metadata": {},
   "outputs": [
    {
     "name": "stdout",
     "output_type": "stream",
     "text": [
      "c:  [1, 1, 2, 3, 5, 8, 13]\n",
      "d:  {1, 2, 3, 5, 8, 13}\n"
     ]
    }
   ],
   "source": [
    "print ('c: ',c)\n",
    "print ('d: ',d)"
   ]
  },
  {
   "cell_type": "code",
   "execution_count": 10,
   "metadata": {},
   "outputs": [
    {
     "name": "stdout",
     "output_type": "stream",
     "text": [
      "{1, 2, 3, 5, 8, 13}\n"
     ]
    }
   ],
   "source": [
    "print (set(a) & set(b))"
   ]
  },
  {
   "cell_type": "markdown",
   "metadata": {},
   "source": [
    "### Example 4:"
   ]
  },
  {
   "cell_type": "markdown",
   "metadata": {},
   "source": [
    "1.Create a dictionary variable, called **student**.\n",
    "2. Modify a variable, **grades**, so it contains the value of a dictionary's key.\n",
    "3. Implement a function calculating a total average grade for a class of students."
   ]
  },
  {
   "cell_type": "code",
   "execution_count": 9,
   "metadata": {},
   "outputs": [
    {
     "name": "stdout",
     "output_type": "stream",
     "text": [
      "3\n"
     ]
    }
   ],
   "source": [
    "print (len((66, 77, 88)))"
   ]
  },
  {
   "cell_type": "code",
   "execution_count": 39,
   "metadata": {
    "collapsed": true
   },
   "outputs": [],
   "source": [
    "# Create a variable called student, with a dictionary.\n",
    "# The dictionary must contain three keys: 'name', 'school', and 'grades'.\n",
    "# The values for each must be 'Jose', 'Computing', and a tuple with the values 66, 77, and 88.\n",
    "student = {'name': 'Jose', 'school': 'Computing', 'grades': (66, 77, 88)}\n",
    "student_list = [{'name': 'Jose', 'school': 'Computing', 'grades': (66, 77, 88)},\n",
    "               {'name': 'Jose', 'school': 'Computing', 'grades': (66, 77,88)},\n",
    "               {'name': 'Jose', 'school': 'Computing', 'grades': (66, 77, 88)}]\n",
    "\n",
    "\n",
    "# Assume the argument, data, is a dictionary.\n",
    "# Modify the grades variable so it accesses the 'grades' key of the data dictionary.\n",
    "def average_grade(data):\n",
    "    grades =   data['grades'] \n",
    "    return sum(grades) / len(grades)\n",
    "\n",
    "\n",
    "# Implement the function below\n",
    "# Given a list of students (a list of dictionaries), calculate the average grade received on an exam, for the entire class\n",
    "# You must add all the grades of all the students together\n",
    "# You must also count how many grades there are in total in the entire list\n",
    "def average_grade_all_students(student_list):\n",
    "    total = 0\n",
    "    count = 0\n",
    "    for student in student_list:\n",
    "        count += len(student['grades'])\n",
    "        total += sum(student['grades'])\n",
    "\n",
    "    return total / count"
   ]
  },
  {
   "cell_type": "code",
   "execution_count": 40,
   "metadata": {},
   "outputs": [
    {
     "data": {
      "text/plain": [
       "77.0"
      ]
     },
     "execution_count": 40,
     "metadata": {},
     "output_type": "execute_result"
    }
   ],
   "source": [
    "average_grade(student)"
   ]
  },
  {
   "cell_type": "code",
   "execution_count": 41,
   "metadata": {},
   "outputs": [
    {
     "data": {
      "text/plain": [
       "77.0"
      ]
     },
     "execution_count": 41,
     "metadata": {},
     "output_type": "execute_result"
    }
   ],
   "source": [
    "average_grade_all_students(student_list)"
   ]
  },
  {
   "cell_type": "markdown",
   "metadata": {
    "collapsed": true
   },
   "source": [
    "### Example 5:"
   ]
  },
  {
   "cell_type": "markdown",
   "metadata": {},
   "source": [
    "1. Extract all of the keys in the following dictionary:\n",
    "{\"day 1\": 1, \"day 2\": 2, \"day 3\": 3, \"day 4\": 4, \"day 5\": 5,\"day 6\": 6}\n"
   ]
  },
  {
   "cell_type": "code",
   "execution_count": 15,
   "metadata": {
    "collapsed": true
   },
   "outputs": [],
   "source": [
    "dictionary = {\"day 1\": 1, \"day 2\": 2, \"day 3\": 3, \"day 4\": 4, \"day 5\": 5,\"day 6\": 6}"
   ]
  },
  {
   "cell_type": "code",
   "execution_count": 9,
   "metadata": {},
   "outputs": [
    {
     "name": "stdout",
     "output_type": "stream",
     "text": [
      "day 1\n",
      "day 2\n",
      "day 3\n",
      "day 4\n",
      "day 5\n",
      "day 6\n"
     ]
    }
   ],
   "source": [
    "for key in dictionary:\n",
    "    print (key)"
   ]
  },
  {
   "cell_type": "code",
   "execution_count": 11,
   "metadata": {},
   "outputs": [
    {
     "name": "stdout",
     "output_type": "stream",
     "text": [
      "day 1 : 1\n",
      "day 2 : 2\n",
      "day 3 : 3\n",
      "day 4 : 4\n",
      "day 5 : 5\n",
      "day 6 : 6\n"
     ]
    }
   ],
   "source": [
    "for key, value in dictionary.items():\n",
    "    print (key, ':',value)"
   ]
  },
  {
   "cell_type": "code",
   "execution_count": 12,
   "metadata": {},
   "outputs": [
    {
     "name": "stdout",
     "output_type": "stream",
     "text": [
      "dict_keys(['day 1', 'day 2', 'day 3', 'day 4', 'day 5', 'day 6'])\n"
     ]
    }
   ],
   "source": [
    "print(dictionary.keys())"
   ]
  },
  {
   "cell_type": "code",
   "execution_count": 21,
   "metadata": {},
   "outputs": [
    {
     "name": "stdout",
     "output_type": "stream",
     "text": [
      "['day 1', 'day 2', 'day 3', 'day 4', 'day 5', 'day 6']\n"
     ]
    }
   ],
   "source": [
    "print ([*dictionary])"
   ]
  },
  {
   "cell_type": "code",
   "execution_count": 22,
   "metadata": {},
   "outputs": [
    {
     "name": "stdout",
     "output_type": "stream",
     "text": [
      "day 1 day 2 day 3 day 4 day 5 day 6\n"
     ]
    }
   ],
   "source": [
    "print (*dictionary)"
   ]
  },
  {
   "cell_type": "markdown",
   "metadata": {},
   "source": [
    "### Example 6:"
   ]
  },
  {
   "cell_type": "markdown",
   "metadata": {},
   "source": [
    "1. Extract the first 3 entries of the following list:\n",
    "list1=[1,1,2,3,5,8,13,22]"
   ]
  },
  {
   "cell_type": "code",
   "execution_count": 13,
   "metadata": {},
   "outputs": [
    {
     "name": "stdout",
     "output_type": "stream",
     "text": [
      "[1, 1, 2]\n"
     ]
    }
   ],
   "source": [
    "print ([1,1,2,3,5,8,13,22][0:3])"
   ]
  },
  {
   "cell_type": "code",
   "execution_count": 14,
   "metadata": {},
   "outputs": [
    {
     "name": "stdout",
     "output_type": "stream",
     "text": [
      "[8, 13, 22]\n"
     ]
    }
   ],
   "source": [
    "print ([1,1,2,3,5,8,13,22][-3:])"
   ]
  },
  {
   "cell_type": "markdown",
   "metadata": {},
   "source": [
    "### Example 7:"
   ]
  },
  {
   "cell_type": "markdown",
   "metadata": {},
   "source": [
    "1. Extract student name from dictionary by using get() method: \n",
    "\n",
    "students= {'name': 'Dina ', 'id': 200086}\n"
   ]
  },
  {
   "cell_type": "code",
   "execution_count": 42,
   "metadata": {},
   "outputs": [
    {
     "name": "stdout",
     "output_type": "stream",
     "text": [
      "hadeel\n"
     ]
    }
   ],
   "source": [
    "students= {'name': 'Dina ', 'id': 200086}\n",
    "\n",
    "students.get('name')\n",
    "print('hadeel')"
   ]
  },
  {
   "cell_type": "code",
   "execution_count": 45,
   "metadata": {},
   "outputs": [
    {
     "name": "stdout",
     "output_type": "stream",
     "text": [
      "hadeel\n"
     ]
    },
    {
     "data": {
      "text/plain": [
       "'Dina '"
      ]
     },
     "execution_count": 45,
     "metadata": {},
     "output_type": "execute_result"
    }
   ],
   "source": [
    "print('hadeel')\n",
    "students.get('name')\n",
    "students.get('name')\n",
    "students.get('name')"
   ]
  },
  {
   "cell_type": "code",
   "execution_count": 17,
   "metadata": {},
   "outputs": [
    {
     "name": "stdout",
     "output_type": "stream",
     "text": [
      "Dina \n"
     ]
    }
   ],
   "source": [
    "print(students['name'])"
   ]
  },
  {
   "cell_type": "markdown",
   "metadata": {},
   "source": [
    "### Example 8:"
   ]
  },
  {
   "cell_type": "markdown",
   "metadata": {},
   "source": [
    "1. Write a function that takes your name and returns it with upper case letters"
   ]
  },
  {
   "cell_type": "code",
   "execution_count": 15,
   "metadata": {},
   "outputs": [
    {
     "name": "stdout",
     "output_type": "stream",
     "text": [
      "AHMED\n"
     ]
    }
   ],
   "source": [
    "def name_upper (name):\n",
    "         return name.upper()\n",
    "\n",
    "\n",
    "print(name_upper(\"ahmed\"))\n"
   ]
  },
  {
   "cell_type": "code",
   "execution_count": 19,
   "metadata": {},
   "outputs": [
    {
     "name": "stdout",
     "output_type": "stream",
     "text": [
      "True\n"
     ]
    }
   ],
   "source": [
    "print (\"AHMED\".isupper())"
   ]
  },
  {
   "cell_type": "code",
   "execution_count": null,
   "metadata": {
    "collapsed": true
   },
   "outputs": [],
   "source": []
  },
  {
   "cell_type": "code",
   "execution_count": null,
   "metadata": {
    "collapsed": true
   },
   "outputs": [],
   "source": []
  }
 ],
 "metadata": {
  "kernelspec": {
   "display_name": "Python 3",
   "language": "python",
   "name": "python3"
  },
  "language_info": {
   "codemirror_mode": {
    "name": "ipython",
    "version": 3
   },
   "file_extension": ".py",
   "mimetype": "text/x-python",
   "name": "python",
   "nbconvert_exporter": "python",
   "pygments_lexer": "ipython3",
   "version": "3.7.1"
  }
 },
 "nbformat": 4,
 "nbformat_minor": 2
}
