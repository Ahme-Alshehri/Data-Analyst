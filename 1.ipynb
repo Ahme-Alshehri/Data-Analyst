{
 "cells": [
  {
   "cell_type": "markdown",
   "metadata": {},
   "source": [
    "### Example 1:"
   ]
  },
  {
   "cell_type": "markdown",
   "metadata": {},
   "source": [
    " **my_method**, takes two arguments and returns the result of its two arguments multiplied together"
   ]
  },
  {
   "cell_type": "code",
   "execution_count": 1,
   "metadata": {},
   "outputs": [],
   "source": [
    "\n",
    "# Create a method below, called my_method, that takes two arguments and returns the result of its two arguments multiplied together.\n",
    "def my_method(arg1, arg2):\n",
    "    return arg1*arg2"
   ]
  },
  {
   "cell_type": "markdown",
   "metadata": {},
   "source": [
    "### Example 2:"
   ]
  },
  {
   "cell_type": "markdown",
   "metadata": {},
   "source": [
    "Create a functon that prints a sequence of integers from 1 to 100, and inplace of every multiple of 3 print “m3” and inplace of every multiple of 5 print  “m5” and if the number is a multiple of both print \"m 3&5\""
   ]
  },
  {
   "cell_type": "code",
   "execution_count": 34,
   "metadata": {},
   "outputs": [
    {
     "name": "stdout",
     "output_type": "stream",
     "text": [
      "1\n",
      "2\n",
      "m3\n",
      "4\n",
      "m5\n",
      "m3\n",
      "7\n",
      "8\n",
      "m3\n",
      "m5\n",
      "11\n",
      "m3\n",
      "13\n",
      "14\n",
      "m 3&5\n",
      "16\n",
      "17\n",
      "m3\n",
      "19\n",
      "m5\n",
      "m3\n",
      "22\n",
      "23\n",
      "m3\n",
      "m5\n",
      "26\n",
      "m3\n",
      "28\n",
      "29\n",
      "m 3&5\n",
      "31\n",
      "32\n",
      "m3\n",
      "34\n",
      "m5\n",
      "m3\n",
      "37\n",
      "38\n",
      "m3\n",
      "m5\n",
      "41\n",
      "m3\n",
      "43\n",
      "44\n",
      "m 3&5\n",
      "46\n",
      "47\n",
      "m3\n",
      "49\n",
      "m5\n",
      "m3\n",
      "52\n",
      "53\n",
      "m3\n",
      "m5\n",
      "56\n",
      "m3\n",
      "58\n",
      "59\n",
      "m 3&5\n",
      "61\n",
      "62\n",
      "m3\n",
      "64\n",
      "m5\n",
      "m3\n",
      "67\n",
      "68\n",
      "m3\n",
      "m5\n",
      "71\n",
      "m3\n",
      "73\n",
      "74\n",
      "m 3&5\n",
      "76\n",
      "77\n",
      "m3\n",
      "79\n",
      "m5\n",
      "m3\n",
      "82\n",
      "83\n",
      "m3\n",
      "m5\n",
      "86\n",
      "m3\n",
      "88\n",
      "89\n",
      "m 3&5\n",
      "91\n",
      "92\n",
      "m3\n",
      "94\n",
      "m5\n",
      "m3\n",
      "97\n",
      "98\n",
      "m3\n",
      "m5\n"
     ]
    }
   ],
   "source": [
    "n = list(range(1,101))\n",
    "\n",
    "for i in n: #rang(1,101)\n",
    "    if i % 5 == 0 and i% 3==0:\n",
    "        print (\"m 3&5\")\n",
    "    elif i % 5 == 0:\n",
    "        print (\"m5\")\n",
    "    elif  i% 3==0:\n",
    "        print (\"m3\")\n",
    "    else:\n",
    "        print (i)"
   ]
  },
  {
   "cell_type": "code",
   "execution_count": 3,
   "metadata": {},
   "outputs": [
    {
     "name": "stdout",
     "output_type": "stream",
     "text": [
      "m 3\n",
      "1\n",
      "2\n",
      "m 3\n",
      "4\n",
      "m5\n",
      "m 3\n",
      "7\n",
      "8\n",
      "m 3\n",
      "m5\n",
      "11\n",
      "m 3\n",
      "13\n",
      "14\n",
      "m 3\n",
      "16\n",
      "17\n",
      "m 3\n",
      "19\n"
     ]
    }
   ],
   "source": [
    "\n",
    "n = [1,2,3,4,5,6,7,8,9,10,11,12,13,14,15,16,17,18,19,20]\n",
    "\n",
    "for i in range(len(n)): #rang(1,101)\n",
    "    if i% 3==0:\n",
    "        print (\"m 3\")\n",
    "    elif i % 5 == 0:\n",
    "        print (\"m5\")\n",
    "    elif  i % 5 == 0:\n",
    "        if i% 3==0:\n",
    "            print (\"m3 &5\")\n",
    "    else:\n",
    "        print (i)\n",
    "\n"
   ]
  }
 ],
 "metadata": {
  "kernelspec": {
   "display_name": "Python 3",
   "language": "python",
   "name": "python3"
  },
  "language_info": {
   "codemirror_mode": {
    "name": "ipython",
    "version": 3
   },
   "file_extension": ".py",
   "mimetype": "text/x-python",
   "name": "python",
   "nbconvert_exporter": "python",
   "pygments_lexer": "ipython3",
   "version": "3.7.1"
  }
 },
 "nbformat": 4,
 "nbformat_minor": 2
}
