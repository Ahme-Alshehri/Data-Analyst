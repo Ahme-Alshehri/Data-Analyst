{
 "cells": [
  {
   "cell_type": "markdown",
   "metadata": {},
   "source": [
    "# Cleaning Practice\n"
   ]
  },
  {
   "cell_type": "code",
   "execution_count": 1,
   "metadata": {},
   "outputs": [
    {
     "name": "stdout",
     "output_type": "stream",
     "text": [
      "<class 'pandas.core.frame.DataFrame'>\n",
      "RangeIndex: 569 entries, 0 to 568\n",
      "Data columns (total 11 columns):\n",
      "id                     569 non-null int64\n",
      "diagnosis              569 non-null object\n",
      "radius_mean            569 non-null float64\n",
      "texture_mean           548 non-null float64\n",
      "perimeter_mean         569 non-null float64\n",
      "area_mean              569 non-null float64\n",
      "smoothness_mean        521 non-null float64\n",
      "compactness_mean       569 non-null float64\n",
      "concavity_mean         569 non-null float64\n",
      "concave_points_mean    569 non-null float64\n",
      "symmetry_mean          504 non-null float64\n",
      "dtypes: float64(9), int64(1), object(1)\n",
      "memory usage: 49.0+ KB\n"
     ]
    }
   ],
   "source": [
    "# import pandas and load cancer data\n",
    "import pandas as pd\n",
    "\n",
    "df = pd.read_csv('cancer_data_means.csv')\n",
    "\n",
    "# check which columns have missing values with info()\n",
    "df.info()"
   ]
  },
  {
   "cell_type": "code",
   "execution_count": 2,
   "metadata": {},
   "outputs": [
    {
     "name": "stdout",
     "output_type": "stream",
     "text": [
      "<class 'pandas.core.frame.DataFrame'>\n",
      "RangeIndex: 569 entries, 0 to 568\n",
      "Data columns (total 11 columns):\n",
      "id                     569 non-null int64\n",
      "diagnosis              569 non-null object\n",
      "radius_mean            569 non-null float64\n",
      "texture_mean           569 non-null float64\n",
      "perimeter_mean         569 non-null float64\n",
      "area_mean              569 non-null float64\n",
      "smoothness_mean        569 non-null float64\n",
      "compactness_mean       569 non-null float64\n",
      "concavity_mean         569 non-null float64\n",
      "concave_points_mean    569 non-null float64\n",
      "symmetry_mean          569 non-null float64\n",
      "dtypes: float64(9), int64(1), object(1)\n",
      "memory usage: 49.0+ KB\n"
     ]
    }
   ],
   "source": [
    "# use means to fill in missing values\n",
    "df.fillna(df.mean(), inplace=True)\n",
    "\n",
    "# confirm your correction with info()\n",
    "df.info()"
   ]
  },
  {
   "cell_type": "code",
   "execution_count": 3,
   "metadata": {},
   "outputs": [
    {
     "data": {
      "text/plain": [
       "5"
      ]
     },
     "execution_count": 3,
     "metadata": {},
     "output_type": "execute_result"
    }
   ],
   "source": [
    "# check for duplicates in the data\n",
    "sum(df.duplicated())"
   ]
  },
  {
   "cell_type": "code",
   "execution_count": 4,
   "metadata": {
    "collapsed": true
   },
   "outputs": [],
   "source": [
    "# drop duplicates\n",
    "df.drop_duplicates(inplace=True)"
   ]
  },
  {
   "cell_type": "code",
   "execution_count": 5,
   "metadata": {},
   "outputs": [
    {
     "data": {
      "text/plain": [
       "0"
      ]
     },
     "execution_count": 5,
     "metadata": {},
     "output_type": "execute_result"
    }
   ],
   "source": [
    "# confirm correction by rechecking for duplicates in the data\n",
    "sum(df.duplicated())"
   ]
  }
 ],
 "metadata": {
  "kernelspec": {
   "display_name": "Python 3",
   "language": "python",
   "name": "python3"
  },
  "language_info": {
   "codemirror_mode": {
    "name": "ipython",
    "version": 3
   },
   "file_extension": ".py",
   "mimetype": "text/x-python",
   "name": "python",
   "nbconvert_exporter": "python",
   "pygments_lexer": "ipython3",
   "version": "3.7.1"
  }
 },
 "nbformat": 4,
 "nbformat_minor": 2
}
